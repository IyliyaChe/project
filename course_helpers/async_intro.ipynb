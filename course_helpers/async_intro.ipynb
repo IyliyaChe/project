{
 "cells": [
  {
   "cell_type": "code",
   "execution_count": 2,
   "id": "8c6f7f30",
   "metadata": {},
   "outputs": [],
   "source": [
    "import asyncio\n",
    "import time"
   ]
  },
  {
   "cell_type": "markdown",
   "id": "81a94b28",
   "metadata": {},
   "source": [
    "# Пример асинхронной работы"
   ]
  },
  {
   "cell_type": "code",
   "execution_count": 13,
   "id": "a32fa524",
   "metadata": {},
   "outputs": [],
   "source": [
    "async def get_large_data():\n",
    "    print('START: large')\n",
    "    await asyncio.sleep(3)\n",
    "    print('END: large')\n",
    "    \n",
    "async def get_small_data():\n",
    "    print('START: small')\n",
    "    await asyncio.sleep(1)\n",
    "    print('END: small')"
   ]
  },
  {
   "cell_type": "code",
   "execution_count": 11,
   "id": "d6faafd8",
   "metadata": {},
   "outputs": [],
   "source": [
    "async def main1():\n",
    "    start = time.perf_counter()\n",
    "    \n",
    "    await get_large_data()\n",
    "    await get_small_data()\n",
    "    \n",
    "    end = time.perf_counter()\n",
    "    print(f'Заняло времени: {end-start:.2f}')\n",
    "    \n",
    "async def main2():\n",
    "    start = time.perf_counter()\n",
    "    \n",
    "    task1 = asyncio.create_task(get_large_data())\n",
    "    task2 = asyncio.create_task(get_small_data())\n",
    "    \n",
    "    await task1\n",
    "    await task2\n",
    "    \n",
    "    end = time.perf_counter()\n",
    "    print(f'Заняло времени: {end-start:.2f}')"
   ]
  },
  {
   "cell_type": "code",
   "execution_count": 8,
   "id": "ce7d4348",
   "metadata": {},
   "outputs": [
    {
     "name": "stdout",
     "output_type": "stream",
     "text": [
      "START: large\n",
      "END: large\n",
      "SMALL: large\n",
      "SMALL: large\n",
      "Заняло времени: 4.01\n"
     ]
    }
   ],
   "source": [
    "await main1()"
   ]
  },
  {
   "cell_type": "code",
   "execution_count": 14,
   "id": "9609d660",
   "metadata": {},
   "outputs": [
    {
     "name": "stdout",
     "output_type": "stream",
     "text": [
      "START: large\n",
      "START: small\n",
      "END: small\n",
      "END: large\n",
      "Заняло времени: 3.00\n"
     ]
    }
   ],
   "source": [
    "await main2()"
   ]
  },
  {
   "cell_type": "code",
   "execution_count": null,
   "id": "46a87f20",
   "metadata": {},
   "outputs": [],
   "source": []
  }
 ],
 "metadata": {
  "kernelspec": {
   "display_name": "Python 3 (ipykernel)",
   "language": "python",
   "name": "python3"
  },
  "language_info": {
   "codemirror_mode": {
    "name": "ipython",
    "version": 3
   },
   "file_extension": ".py",
   "mimetype": "text/x-python",
   "name": "python",
   "nbconvert_exporter": "python",
   "pygments_lexer": "ipython3",
   "version": "3.9.13"
  }
 },
 "nbformat": 4,
 "nbformat_minor": 5
}
